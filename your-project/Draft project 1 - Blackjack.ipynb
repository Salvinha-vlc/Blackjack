{
 "cells": [
  {
   "cell_type": "code",
   "execution_count": 34,
   "metadata": {},
   "outputs": [
    {
     "name": "stdout",
     "output_type": "stream",
     "text": [
      "Initial hands. Player: [2, 1] ---------------------- Dealer: [1, 1]\n",
      "Initial hand value. Player: 5 ---------------------- Dealer: 3\n",
      "Player's initial hand is [2, 1], and dealer's initial hand is [1, 1]\n",
      "Player's initial hand value is 5, and dealer's initial hand value is 3\n"
     ]
    }
   ],
   "source": [
    "Deck = [1, 2, 3, 4, 5, 6, 7, 8, 9, 10]\n",
    "\n",
    "Player_cards = []\n",
    "Player_hand_value = 0\n",
    "Dealer_cards = []\n",
    "Dealer_hand_value = 0\n",
    "\n",
    "import random\n",
    "\n",
    "for i in range (2):\n",
    "    cards = random.choice(Deck)\n",
    "    Player_cards.append(cards)\n",
    "    Player_hand_value += Player_hand_value + cards\n",
    "    \n",
    "for j in range (2):\n",
    "    \n",
    "    Pre_flop = random.choice(Deck)\n",
    "    Dealer_cards.append(cards)\n",
    "    Dealer_hand_value += Dealer_hand_value + cards\n",
    "    \n",
    "    \n",
    "print(f\"Initial hands. Player: {Player_cards} ---------------------- Dealer: {Dealer_cards}\")\n",
    "print(f\"Initial hand value. Player: {Player_hand_value} ---------------------- Dealer: {Dealer_hand_value}\")\n",
    "\n",
    "print(f\"Player's initial hand is {Player_cards}, and dealer's initial hand is {Dealer_cards}\")\n",
    "print(f\"Player's initial hand value is {Player_hand_value}, and dealer's initial hand value is {Dealer_hand_value}\")\n",
    "\n",
    "\n",
    "\n"
   ]
  },
  {
   "cell_type": "markdown",
   "metadata": {},
   "source": [
    "Trial with function (I gave up for now, it is easier for me doing it as in above cell)"
   ]
  },
  {
   "cell_type": "code",
   "execution_count": 28,
   "metadata": {},
   "outputs": [
    {
     "ename": "UnboundLocalError",
     "evalue": "local variable 'hand_value' referenced before assignment",
     "output_type": "error",
     "traceback": [
      "\u001b[0;31m---------------------------------------------------------------------------\u001b[0m",
      "\u001b[0;31mUnboundLocalError\u001b[0m                         Traceback (most recent call last)",
      "\u001b[0;32m<ipython-input-28-5f35f9edb94a>\u001b[0m in \u001b[0;36m<module>\u001b[0;34m\u001b[0m\n\u001b[1;32m     20\u001b[0m \u001b[0;34m\u001b[0m\u001b[0m\n\u001b[1;32m     21\u001b[0m \u001b[0;34m\u001b[0m\u001b[0m\n\u001b[0;32m---> 22\u001b[0;31m \u001b[0mdealing_cards\u001b[0m\u001b[0;34m(\u001b[0m\u001b[0;34m)\u001b[0m\u001b[0;34m\u001b[0m\u001b[0;34m\u001b[0m\u001b[0m\n\u001b[0m\u001b[1;32m     23\u001b[0m \u001b[0;34m\u001b[0m\u001b[0m\n",
      "\u001b[0;32m<ipython-input-28-5f35f9edb94a>\u001b[0m in \u001b[0;36mdealing_cards\u001b[0;34m()\u001b[0m\n\u001b[1;32m     15\u001b[0m         \u001b[0mcards\u001b[0m \u001b[0;34m=\u001b[0m \u001b[0mrandom\u001b[0m\u001b[0;34m.\u001b[0m\u001b[0mchoice\u001b[0m\u001b[0;34m(\u001b[0m\u001b[0mDeck\u001b[0m\u001b[0;34m)\u001b[0m\u001b[0;34m\u001b[0m\u001b[0;34m\u001b[0m\u001b[0m\n\u001b[1;32m     16\u001b[0m         \u001b[0mhand_cards\u001b[0m\u001b[0;34m.\u001b[0m\u001b[0mappend\u001b[0m\u001b[0;34m(\u001b[0m\u001b[0mcards\u001b[0m\u001b[0;34m)\u001b[0m\u001b[0;34m\u001b[0m\u001b[0;34m\u001b[0m\u001b[0m\n\u001b[0;32m---> 17\u001b[0;31m         \u001b[0mhand_value\u001b[0m \u001b[0;34m+=\u001b[0m \u001b[0mhand_value\u001b[0m \u001b[0;34m+\u001b[0m \u001b[0mcards\u001b[0m\u001b[0;34m\u001b[0m\u001b[0;34m\u001b[0m\u001b[0m\n\u001b[0m\u001b[1;32m     18\u001b[0m \u001b[0;34m\u001b[0m\u001b[0m\n\u001b[1;32m     19\u001b[0m     \u001b[0mprint\u001b[0m\u001b[0;34m(\u001b[0m\u001b[0mhand_cards\u001b[0m\u001b[0;34m,\u001b[0m \u001b[0mhand_value\u001b[0m\u001b[0;34m)\u001b[0m\u001b[0;34m\u001b[0m\u001b[0;34m\u001b[0m\u001b[0m\n",
      "\u001b[0;31mUnboundLocalError\u001b[0m: local variable 'hand_value' referenced before assignment"
     ]
    }
   ],
   "source": [
    "Deck = [1, 2, 3, 4, 5, 6, 7, 8, 9, 10]\n",
    "\n",
    "hand_cards = []\n",
    "hand_value = \"\"\n",
    "Player_cards = []\n",
    "Player_hand_value = 0\n",
    "Dealer_cards = []\n",
    "Dealer_hand_value = 0\n",
    "\n",
    "import random\n",
    "\n",
    "def dealing_cards ():\n",
    "\n",
    "    for i in range (2):\n",
    "        cards = random.choice(Deck)\n",
    "        hand_cards.append(cards)\n",
    "        hand_value += hand_value + cards\n",
    "\n",
    "    print(hand_cards, hand_value)\n",
    "    \n",
    "\n",
    "dealing_cards()\n",
    "    \n"
   ]
  }
 ],
 "metadata": {
  "kernelspec": {
   "display_name": "Python 3",
   "language": "python",
   "name": "python3"
  },
  "language_info": {
   "codemirror_mode": {
    "name": "ipython",
    "version": 3
   },
   "file_extension": ".py",
   "mimetype": "text/x-python",
   "name": "python",
   "nbconvert_exporter": "python",
   "pygments_lexer": "ipython3",
   "version": "3.7.3"
  }
 },
 "nbformat": 4,
 "nbformat_minor": 2
}
