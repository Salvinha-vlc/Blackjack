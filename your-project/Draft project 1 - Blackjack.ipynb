{
 "cells": [
  {
   "cell_type": "code",
   "execution_count": 20,
   "metadata": {},
   "outputs": [
    {
     "name": "stdout",
     "output_type": "stream",
     "text": [
      "Initial hands. Player: [7, 5] ---------------------- Dealer: [10, 6]\n",
      "Initial hand value. Player: 12 ---------------------- Dealer: 16\n",
      "\n",
      "Player's initial hand is [7, 5], and dealer's initial hand is [10, 6]\n",
      "Player's initial hand value is 12, and dealer's initial hand value is 16\n"
     ]
    }
   ],
   "source": [
    "\"\"\"\n",
    "deck = [2, 3, 4, 5, 6, 7, 8, 9, 10, 10, 10, 10, 11]\n",
    "\n",
    "player_cards = []\n",
    "player_hand_value = 0\n",
    "dealer_cards = []\n",
    "dealer_hand_value = 0\n",
    "\n",
    "\n",
    "import random\n",
    "\n",
    "for i in range (2):\n",
    "    \n",
    "    player_cards.append(random.choice(deck))\n",
    "    cards = player_cards[-1]\n",
    "    player_hand_value = player_hand_value + cards\n",
    "    \n",
    "    \n",
    "    \n",
    "for j in range (2):\n",
    "    cards = random.choice(deck)\n",
    "    dealer_cards.append(cards)\n",
    "    dealer_hand_value = dealer_hand_value + cards\n",
    "    \n",
    "    \n",
    "    \n",
    "print(f\"Initial hands. Player: {player_cards} ---------------------- Dealer: {dealer_cards}\")\n",
    "print(f\"Initial hand value. Player: {player_hand_value} ---------------------- Dealer: {dealer_hand_value}\")\n",
    "\n",
    "print(f\"\\nPlayer's initial hand is {player_cards}, and dealer's initial hand is {dealer_cards}\")\n",
    "print(f\"Player's initial hand value is {player_hand_value}, and dealer's initial hand value is {dealer_hand_value}\")\n",
    "\n",
    "\n",
    "\"\"\"\n"
   ]
  },
  {
   "cell_type": "code",
   "execution_count": 27,
   "metadata": {},
   "outputs": [
    {
     "ename": "SyntaxError",
     "evalue": "EOL while scanning string literal (<ipython-input-27-9a3418770dcf>, line 38)",
     "output_type": "error",
     "traceback": [
      "\u001b[0;36m  File \u001b[0;32m\"<ipython-input-27-9a3418770dcf>\"\u001b[0;36m, line \u001b[0;32m38\u001b[0m\n\u001b[0;31m    print(f\"Player's card is {player_cards[-1]})\u001b[0m\n\u001b[0m                                                ^\u001b[0m\n\u001b[0;31mSyntaxError\u001b[0m\u001b[0;31m:\u001b[0m EOL while scanning string literal\n"
     ]
    }
   ],
   "source": [
    "import random\n",
    "\n",
    "deck = [2, 3, 4, 5, 6, 7, 8, 9, 10, 10, 10, 10, 11]\n",
    "\n",
    "player_cards = []\n",
    "player_hand_value = 0\n",
    "dealer_cards = []\n",
    "dealer_hand_value = 0\n",
    "\n",
    "\n",
    "for i in range (2):\n",
    "    cards = random.choice(deck)\n",
    "    player_cards.append(cards)\n",
    "    player_hand_value = player_hand_value + cards\n",
    "\n",
    "    \n",
    "for j in range (2):\n",
    "    cards = random.choice(deck)\n",
    "    dealer_cards.append(cards)\n",
    "    dealer_hand_value = dealer_hand_value + cards\n",
    "    \n",
    "\n",
    "print(f\"\\nPlayer's initial hand is {player_cards}, and dealer's initial hand is {dealer_cards}\")\n",
    "print(f\"Player's initial hand value is {player_hand_value}, and dealer's initial hand value is {dealer_hand_value}\")\n",
    "\n",
    "\n",
    "while player_hand_value < 21:\n",
    "    \n",
    "    answer = input(\"Do you want another card? (Y/N)\")\n",
    "    \n",
    "    while answer not in [\"Y\", \"N\"]:\n",
    "        answer = input(\"Please indicate whether you want to fold or keep playing by typing Y or N\")\n",
    "        \n",
    "    if answer == \"Y\":\n",
    "        cards = random.choice(deck)\n",
    "        player_cards.append(cards)\n",
    "        player_hand_value = player_hand_value + cards\n",
    "        print(f\"Player's card is {player_cards[-1]})\n",
    "        print(f\"Player's hand value is {player_hand_value})\n",
    "              \n",
    "        \n",
    "    elif answer == \"N\":\n",
    "        break\n",
    "        \n",
    "        \n",
    "print(f\"\\nPlayer's final hand is {player_hand_value}\")\n",
    "\n",
    "\n",
    "            \n",
    "            \n",
    "            \n",
    "        \n",
    "        \n",
    "\n"
   ]
  },
  {
   "cell_type": "markdown",
   "metadata": {},
   "source": [
    "## Trial with function (I gave up for now, it is easier for me doing it as in above cell)"
   ]
  },
  {
   "cell_type": "code",
   "execution_count": 2,
   "metadata": {},
   "outputs": [
    {
     "ename": "UnboundLocalError",
     "evalue": "local variable 'hand_value' referenced before assignment",
     "output_type": "error",
     "traceback": [
      "\u001b[0;31m---------------------------------------------------------------------------\u001b[0m",
      "\u001b[0;31mUnboundLocalError\u001b[0m                         Traceback (most recent call last)",
      "\u001b[0;32m<ipython-input-2-54ac02ece8d8>\u001b[0m in \u001b[0;36m<module>\u001b[0;34m\u001b[0m\n\u001b[1;32m     20\u001b[0m \u001b[0;34m\u001b[0m\u001b[0m\n\u001b[1;32m     21\u001b[0m \u001b[0;34m\u001b[0m\u001b[0m\n\u001b[0;32m---> 22\u001b[0;31m \u001b[0mdealing_cards\u001b[0m\u001b[0;34m(\u001b[0m\u001b[0;34m)\u001b[0m\u001b[0;34m\u001b[0m\u001b[0;34m\u001b[0m\u001b[0m\n\u001b[0m\u001b[1;32m     23\u001b[0m \u001b[0;34m\u001b[0m\u001b[0m\n",
      "\u001b[0;32m<ipython-input-2-54ac02ece8d8>\u001b[0m in \u001b[0;36mdealing_cards\u001b[0;34m()\u001b[0m\n\u001b[1;32m     15\u001b[0m         \u001b[0mcards\u001b[0m \u001b[0;34m=\u001b[0m \u001b[0mrandom\u001b[0m\u001b[0;34m.\u001b[0m\u001b[0mchoice\u001b[0m\u001b[0;34m(\u001b[0m\u001b[0mDeck\u001b[0m\u001b[0;34m)\u001b[0m\u001b[0;34m\u001b[0m\u001b[0;34m\u001b[0m\u001b[0m\n\u001b[1;32m     16\u001b[0m         \u001b[0mhand_cards\u001b[0m\u001b[0;34m.\u001b[0m\u001b[0mappend\u001b[0m\u001b[0;34m(\u001b[0m\u001b[0mcards\u001b[0m\u001b[0;34m)\u001b[0m\u001b[0;34m\u001b[0m\u001b[0;34m\u001b[0m\u001b[0m\n\u001b[0;32m---> 17\u001b[0;31m         \u001b[0mhand_value\u001b[0m \u001b[0;34m+=\u001b[0m \u001b[0mhand_value\u001b[0m \u001b[0;34m+\u001b[0m \u001b[0mcards\u001b[0m\u001b[0;34m\u001b[0m\u001b[0;34m\u001b[0m\u001b[0m\n\u001b[0m\u001b[1;32m     18\u001b[0m \u001b[0;34m\u001b[0m\u001b[0m\n\u001b[1;32m     19\u001b[0m     \u001b[0;32mreturn\u001b[0m \u001b[0mprint\u001b[0m\u001b[0;34m(\u001b[0m\u001b[0mhand_cards\u001b[0m\u001b[0;34m,\u001b[0m \u001b[0mhand_value\u001b[0m\u001b[0;34m)\u001b[0m\u001b[0;34m\u001b[0m\u001b[0;34m\u001b[0m\u001b[0m\n",
      "\u001b[0;31mUnboundLocalError\u001b[0m: local variable 'hand_value' referenced before assignment"
     ]
    }
   ],
   "source": [
    "Deck = [1, 2, 3, 4, 5, 6, 7, 8, 9, 10]\n",
    "\n",
    "hand_cards = []\n",
    "hand_value = \"\"\n",
    "Player_cards = []\n",
    "Player_hand_value = 0\n",
    "Dealer_cards = []\n",
    "Dealer_hand_value = 0\n",
    "\n",
    "import random\n",
    "\n",
    "def dealing_cards ():\n",
    "\n",
    "    for i in range (2):\n",
    "        cards = random.choice(Deck)\n",
    "        hand_cards.append(cards)\n",
    "        hand_value += hand_value + cards\n",
    "\n",
    "    return print(hand_cards, hand_value)\n",
    "    \n",
    "\n",
    "dealing_cards()\n",
    "    \n"
   ]
  }
 ],
 "metadata": {
  "kernelspec": {
   "display_name": "Python 3",
   "language": "python",
   "name": "python3"
  },
  "language_info": {
   "codemirror_mode": {
    "name": "ipython",
    "version": 3
   },
   "file_extension": ".py",
   "mimetype": "text/x-python",
   "name": "python",
   "nbconvert_exporter": "python",
   "pygments_lexer": "ipython3",
   "version": "3.7.3"
  }
 },
 "nbformat": 4,
 "nbformat_minor": 2
}
